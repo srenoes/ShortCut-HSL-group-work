version https://git-lfs.github.com/spec/v1
oid sha256:e564d36bbb5f295711f2d4a1daa6655d3ff5974e27f62d77844fa070d749488b
size 91034052
