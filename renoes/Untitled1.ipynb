{
 "cells": [
  {
   "cell_type": "code",
   "execution_count": 1,
   "metadata": {},
   "outputs": [],
   "source": [
    "import osmnx as ox\n",
    "import geopandas as gpd"
   ]
  },
  {
   "cell_type": "code",
   "execution_count": null,
   "metadata": {},
   "outputs": [],
   "source": [
    "city = ox.gdf_from_place('Helsinki, Finland')\n",
    "ox.save_gdf_shapefile(ox.project_gdf(city), filename='Helsinki',folder='.')\n",
    "city = ox.gdf_from_place('Espoo, Finland')\n",
    "ox.save_gdf_shapefile(ox.project_gdf(city), filename='Espoo',folder='.')\n",
    "city = ox.gdf_from_place('Vantaa, Finland')\n",
    "ox.save_gdf_shapefile(ox.project_gdf(city), filename='Vantaa',folder='.')\n",
    "\n",
    "#G = ox.graph_from_place('Helsinki, Finland', network_type='bike')\n",
    "#ox.plot_graph(ox.project_graph(G),show=True)"
   ]
  },
  {
   "cell_type": "code",
   "execution_count": null,
   "metadata": {},
   "outputs": [],
   "source": [
    "landuse = ox.footprints.footprints_from_place(place='Helsinki, Finland',footprint_type='landuse')\n",
    "ox.save_gdf_shapefile(ox.project_gdf(landuse), filename='Helsinki_landuse',folder='.')\n",
    "landuse = ox.footprints.footprints_from_place(place='Espoo, Finland',footprint_type='landuse')\n",
    "ox.save_gdf_shapefile(ox.project_gdf(landuse), filename='Espoo_landuse',folder='.')\n",
    "landuse = ox.footprints.footprints_from_place(place='Vantaa, Finland',footprint_type='landuse')\n",
    "ox.save_gdf_shapefile(ox.project_gdf(landuse), filename='Vantaa_landuse',folder='.')"
   ]
  },
  {
   "cell_type": "code",
   "execution_count": 3,
   "metadata": {},
   "outputs": [],
   "source": [
    "#natural = ox.footprints.footprints_from_place(place='Helsinki, Finland',footprint_type='natural')\n",
    "#natural=natural.loc[(natural.natural=='coastline')|(natural.natural=='water'),:]\n",
    "#ox.save_gdf_shapefile(ox.project_gdf(natural), filename='Helsinki_water_coast',folder='.')\n",
    "\n",
    "natural = ox.footprints.footprints_from_place(place='Espoo, Finland',footprint_type='natural')\n",
    "natural=natural.loc[(natural.natural=='coastline')|(natural.natural=='water'),:]\n",
    "ox.save_gdf_shapefile(ox.project_gdf(natural), filename='Espoo_water_coast',folder='.')\n",
    "\n",
    "natural = ox.footprints.footprints_from_place(place='Vantaa, Finland',footprint_type='natural')\n",
    "natural=natural.loc[(natural.natural=='coastline')|(natural.natural=='water'),:]\n",
    "ox.save_gdf_shapefile(ox.project_gdf(natural), filename='Vantaa_water_coast',folder='.')"
   ]
  },
  {
   "cell_type": "code",
   "execution_count": 4,
   "metadata": {},
   "outputs": [],
   "source": [
    "G = ox.graph_from_place('Helsinki, Finland', network_type='bike')\n",
    "ox.save_graph_shapefile(ox.project_graph(G), filename='Helsinki_bike_routes',folder='.')\n",
    "G = ox.graph_from_place('Espoo, Finland', network_type='bike')\n",
    "ox.save_graph_shapefile(ox.project_graph(G), filename='Espoo_bike_routes',folder='.')\n",
    "G = ox.graph_from_place('Vantaa, Finland', network_type='bike')\n",
    "ox.save_graph_shapefile(ox.project_graph(G), filename='Vantaa_bike_routes',folder='.')"
   ]
  },
  {
   "cell_type": "code",
   "execution_count": null,
   "metadata": {},
   "outputs": [],
   "source": [
    "\n"
   ]
  }
 ],
 "metadata": {
  "kernelspec": {
   "display_name": "Python 3",
   "language": "python",
   "name": "python3"
  },
  "language_info": {
   "codemirror_mode": {
    "name": "ipython",
    "version": 3
   },
   "file_extension": ".py",
   "mimetype": "text/x-python",
   "name": "python",
   "nbconvert_exporter": "python",
   "pygments_lexer": "ipython3",
   "version": "3.7.3"
  }
 },
 "nbformat": 4,
 "nbformat_minor": 2
}
